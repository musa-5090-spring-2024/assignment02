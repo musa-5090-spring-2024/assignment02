{
 "cells": [
  {
   "cell_type": "code",
   "execution_count": 3,
   "metadata": {},
   "outputs": [
    {
     "name": "stdout",
     "output_type": "stream",
     "text": [
      "                  GEO_ID                                               NAME  \\\n",
      "0              Geography                               Geographic Area Name   \n",
      "1  1500000US420010301011  Block Group 1, Census Tract 301.01, Adams Coun...   \n",
      "2  1500000US420010301012  Block Group 2, Census Tract 301.01, Adams Coun...   \n",
      "3  1500000US420010301031  Block Group 1, Census Tract 301.03, Adams Coun...   \n",
      "4  1500000US420010301041  Block Group 1, Census Tract 301.04, Adams Coun...   \n",
      "\n",
      "     P1_001N                             P1_002N  \\\n",
      "0   !!Total:   !!Total:!!Population of one race:   \n",
      "1       1043                                 983   \n",
      "2       1603                                1552   \n",
      "3       2375                                2284   \n",
      "4       1109                                1062   \n",
      "\n",
      "                                           P1_003N  \\\n",
      "0   !!Total:!!Population of one race:!!White alone   \n",
      "1                                              933   \n",
      "2                                             1517   \n",
      "3                                             2239   \n",
      "4                                             1016   \n",
      "\n",
      "                                             P1_004N  \\\n",
      "0   !!Total:!!Population of one race:!!Black or A...   \n",
      "1                                                  7   \n",
      "2                                                  5   \n",
      "3                                                  9   \n",
      "4                                                  2   \n",
      "\n",
      "                                             P1_005N  \\\n",
      "0   !!Total:!!Population of one race:!!American I...   \n",
      "1                                                  3   \n",
      "2                                                  1   \n",
      "3                                                  6   \n",
      "4                                                  0   \n",
      "\n",
      "                                           P1_006N  \\\n",
      "0   !!Total:!!Population of one race:!!Asian alone   \n",
      "1                                                6   \n",
      "2                                                3   \n",
      "3                                                9   \n",
      "4                                                3   \n",
      "\n",
      "                                             P1_007N  \\\n",
      "0   !!Total:!!Population of one race:!!Native Haw...   \n",
      "1                                                  1   \n",
      "2                                                  0   \n",
      "3                                                  3   \n",
      "4                                                  0   \n",
      "\n",
      "                                             P1_008N  ...  \\\n",
      "0   !!Total:!!Population of one race:!!Some Other...  ...   \n",
      "1                                                 33  ...   \n",
      "2                                                 26  ...   \n",
      "3                                                 18  ...   \n",
      "4                                                 41  ...   \n",
      "\n",
      "                                             P1_063N  \\\n",
      "0   !!Total:!!Population of two or more races:!!P...   \n",
      "1                                                  0   \n",
      "2                                                  0   \n",
      "3                                                  0   \n",
      "4                                                  0   \n",
      "\n",
      "                                             P1_064N  \\\n",
      "0   !!Total:!!Population of two or more races:!!P...   \n",
      "1                                                  0   \n",
      "2                                                  0   \n",
      "3                                                  0   \n",
      "4                                                  0   \n",
      "\n",
      "                                             P1_065N  \\\n",
      "0   !!Total:!!Population of two or more races:!!P...   \n",
      "1                                                  0   \n",
      "2                                                  0   \n",
      "3                                                  0   \n",
      "4                                                  0   \n",
      "\n",
      "                                             P1_066N  \\\n",
      "0   !!Total:!!Population of two or more races:!!P...   \n",
      "1                                                  0   \n",
      "2                                                  0   \n",
      "3                                                  0   \n",
      "4                                                  0   \n",
      "\n",
      "                                             P1_067N  \\\n",
      "0   !!Total:!!Population of two or more races:!!P...   \n",
      "1                                                  0   \n",
      "2                                                  0   \n",
      "3                                                  0   \n",
      "4                                                  0   \n",
      "\n",
      "                                             P1_068N  \\\n",
      "0   !!Total:!!Population of two or more races:!!P...   \n",
      "1                                                  0   \n",
      "2                                                  0   \n",
      "3                                                  0   \n",
      "4                                                  0   \n",
      "\n",
      "                                             P1_069N  \\\n",
      "0   !!Total:!!Population of two or more races:!!P...   \n",
      "1                                                  0   \n",
      "2                                                  0   \n",
      "3                                                  0   \n",
      "4                                                  0   \n",
      "\n",
      "                                             P1_070N  \\\n",
      "0   !!Total:!!Population of two or more races:!!P...   \n",
      "1                                                  0   \n",
      "2                                                  0   \n",
      "3                                                  0   \n",
      "4                                                  0   \n",
      "\n",
      "                                             P1_071N Unnamed: 73  \n",
      "0   !!Total:!!Population of two or more races:!!P...         NaN  \n",
      "1                                                  0         NaN  \n",
      "2                                                  0         NaN  \n",
      "3                                                  0         NaN  \n",
      "4                                                  0         NaN  \n",
      "\n",
      "[5 rows x 74 columns]\n"
     ]
    },
    {
     "name": "stderr",
     "output_type": "stream",
     "text": [
      "/var/folders/91/fw6j_j153bv0ybx1rzlkpy2r0000gn/T/ipykernel_14191/1269842391.py:7: DtypeWarning: Columns (2,3,4,5,6,7,8,9,10,11,12,13,14,15,16,17,18,19,20,21,22,23,24,25,26,27,28,29,30,31,32,33,34,35,36,37,38,39,40,41,42,43,44,45,46,47,48,49,50,51,52,53,54,55,56,57,58,59,60,61,62,63,64,65,66,67,68,69,70,71,72) have mixed types. Specify dtype option on import or set low_memory=False.\n",
      "  data = pd.read_csv(file_path)\n"
     ]
    }
   ],
   "source": [
    "import pandas as pd\n",
    "\n",
    "# Path to the CSV file\n",
    "file_path = \"/Users/shuaiwang/Documents/MUSA-Cloud/MUSA-cloud-assignment2/data/DECENNIALPL2020.P1_2024-03-08T113934/DECENNIALPL2020.P1-Data.csv\"\n",
    "\n",
    "# Read the CSV file\n",
    "data = pd.read_csv(file_path)\n",
    "\n",
    "# Display the first few rows of the DataFrame\n",
    "print(data.head())\n"
   ]
  },
  {
   "cell_type": "code",
   "execution_count": 4,
   "metadata": {},
   "outputs": [
    {
     "name": "stdout",
     "output_type": "stream",
     "text": [
      "                  GEO_ID                                               NAME  \\\n",
      "1  1500000US420010301011  Block Group 1, Census Tract 301.01, Adams Coun...   \n",
      "2  1500000US420010301012  Block Group 2, Census Tract 301.01, Adams Coun...   \n",
      "3  1500000US420010301031  Block Group 1, Census Tract 301.03, Adams Coun...   \n",
      "4  1500000US420010301041  Block Group 1, Census Tract 301.04, Adams Coun...   \n",
      "5  1500000US420010301042  Block Group 2, Census Tract 301.04, Adams Coun...   \n",
      "\n",
      "  P1_001N P1_002N P1_003N P1_004N P1_005N P1_006N P1_007N P1_008N  ...  \\\n",
      "1    1043     983     933       7       3       6       1      33  ...   \n",
      "2    1603    1552    1517       5       1       3       0      26  ...   \n",
      "3    2375    2284    2239       9       6       9       3      18  ...   \n",
      "4    1109    1062    1016       2       0       3       0      41  ...   \n",
      "5    2315    2190    2002      14      11      10       2     151  ...   \n",
      "\n",
      "  P1_063N P1_064N P1_065N P1_066N P1_067N P1_068N P1_069N P1_070N P1_071N  \\\n",
      "1       0       0       0       0       0       0       0       0       0   \n",
      "2       0       0       0       0       0       0       0       0       0   \n",
      "3       0       0       0       0       0       0       0       0       0   \n",
      "4       0       0       0       0       0       0       0       0       0   \n",
      "5       0       0       0       0       0       0       0       0       0   \n",
      "\n",
      "  Unnamed: 73  \n",
      "1         NaN  \n",
      "2         NaN  \n",
      "3         NaN  \n",
      "4         NaN  \n",
      "5         NaN  \n",
      "\n",
      "[5 rows x 74 columns]\n"
     ]
    }
   ],
   "source": [
    "data = data.drop(0)\n",
    "print(data.head())\n"
   ]
  },
  {
   "cell_type": "code",
   "execution_count": 6,
   "metadata": {},
   "outputs": [
    {
     "name": "stdout",
     "output_type": "stream",
     "text": [
      "                  GEO_ID                                               NAME  \\\n",
      "0  1500000US420010301011  Block Group 1, Census Tract 301.01, Adams Coun...   \n",
      "1  1500000US420010301012  Block Group 2, Census Tract 301.01, Adams Coun...   \n",
      "2  1500000US420010301031  Block Group 1, Census Tract 301.03, Adams Coun...   \n",
      "3  1500000US420010301041  Block Group 1, Census Tract 301.04, Adams Coun...   \n",
      "4  1500000US420010301042  Block Group 2, Census Tract 301.04, Adams Coun...   \n",
      "\n",
      "  P1_001N P1_002N P1_003N P1_004N P1_005N P1_006N P1_007N P1_008N  ...  \\\n",
      "0    1043     983     933       7       3       6       1      33  ...   \n",
      "1    1603    1552    1517       5       1       3       0      26  ...   \n",
      "2    2375    2284    2239       9       6       9       3      18  ...   \n",
      "3    1109    1062    1016       2       0       3       0      41  ...   \n",
      "4    2315    2190    2002      14      11      10       2     151  ...   \n",
      "\n",
      "  P1_063N P1_064N P1_065N P1_066N P1_067N P1_068N P1_069N P1_070N P1_071N  \\\n",
      "0       0       0       0       0       0       0       0       0       0   \n",
      "1       0       0       0       0       0       0       0       0       0   \n",
      "2       0       0       0       0       0       0       0       0       0   \n",
      "3       0       0       0       0       0       0       0       0       0   \n",
      "4       0       0       0       0       0       0       0       0       0   \n",
      "\n",
      "  Unnamed: 73  \n",
      "0         NaN  \n",
      "1         NaN  \n",
      "2         NaN  \n",
      "3         NaN  \n",
      "4         NaN  \n",
      "\n",
      "[5 rows x 74 columns]\n"
     ]
    }
   ],
   "source": [
    "data = data.reset_index(drop=True)\n",
    "print(data.head())\n"
   ]
  },
  {
   "cell_type": "code",
   "execution_count": 8,
   "metadata": {},
   "outputs": [
    {
     "name": "stdout",
     "output_type": "stream",
     "text": [
      "                   geoid                                            geoname  \\\n",
      "0  1500000US420010301011  Block Group 1, Census Tract 301.01, Adams Coun...   \n",
      "1  1500000US420010301012  Block Group 2, Census Tract 301.01, Adams Coun...   \n",
      "2  1500000US420010301031  Block Group 1, Census Tract 301.03, Adams Coun...   \n",
      "3  1500000US420010301041  Block Group 1, Census Tract 301.04, Adams Coun...   \n",
      "4  1500000US420010301042  Block Group 2, Census Tract 301.04, Adams Coun...   \n",
      "\n",
      "  total  \n",
      "0  1043  \n",
      "1  1603  \n",
      "2  2375  \n",
      "3  1109  \n",
      "4  2315  \n"
     ]
    }
   ],
   "source": [
    "# Keep only the first 3 columns\n",
    "data = data.iloc[:, :3]\n",
    "data = data.rename(columns={'GEO_ID': 'geoid', 'NAME': 'geoname', 'P1_001N': 'total'})\n",
    "print(data.head())\n"
   ]
  },
  {
   "cell_type": "code",
   "execution_count": 9,
   "metadata": {},
   "outputs": [],
   "source": [
    "data.to_csv('/Users/shuaiwang/Documents/MUSA-Cloud/MUSA-cloud-assignment2/data/DECENNIALPL2020.P1_2024-03-08T113934/census.csv', index=False)\n"
   ]
  },
  {
   "cell_type": "code",
   "execution_count": null,
   "metadata": {},
   "outputs": [],
   "source": []
  }
 ],
 "metadata": {
  "kernelspec": {
   "display_name": "musa-650",
   "language": "python",
   "name": "python3"
  },
  "language_info": {
   "codemirror_mode": {
    "name": "ipython",
    "version": 3
   },
   "file_extension": ".py",
   "mimetype": "text/x-python",
   "name": "python",
   "nbconvert_exporter": "python",
   "pygments_lexer": "ipython3",
   "version": "3.9.18"
  }
 },
 "nbformat": 4,
 "nbformat_minor": 2
}
