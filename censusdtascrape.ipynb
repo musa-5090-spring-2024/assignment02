{
 "cells": [
  {
   "cell_type": "code",
   "execution_count": 1,
   "metadata": {},
   "outputs": [
    {
     "name": "stdout",
     "output_type": "stream",
     "text": [
      "Defaulting to user installation because normal site-packages is not writeable\n",
      "Collecting requests\n",
      "  Downloading requests-2.31.0-py3-none-any.whl.metadata (4.6 kB)\n",
      "Collecting pandas\n",
      "  Downloading pandas-2.2.1-cp312-cp312-win_amd64.whl.metadata (19 kB)\n",
      "Collecting charset-normalizer<4,>=2 (from requests)\n",
      "  Downloading charset_normalizer-3.3.2-cp312-cp312-win_amd64.whl.metadata (34 kB)\n",
      "Collecting idna<4,>=2.5 (from requests)\n",
      "  Downloading idna-3.6-py3-none-any.whl.metadata (9.9 kB)\n",
      "Collecting urllib3<3,>=1.21.1 (from requests)\n",
      "  Downloading urllib3-2.2.1-py3-none-any.whl.metadata (6.4 kB)\n",
      "Collecting certifi>=2017.4.17 (from requests)\n",
      "  Downloading certifi-2024.2.2-py3-none-any.whl.metadata (2.2 kB)\n",
      "Collecting numpy<2,>=1.26.0 (from pandas)\n",
      "  Downloading numpy-1.26.4-cp312-cp312-win_amd64.whl.metadata (61 kB)\n",
      "     ---------------------------------------- 0.0/61.0 kB ? eta -:--:--\n",
      "     ---------------------------------------- 61.0/61.0 kB 3.2 MB/s eta 0:00:00\n",
      "Requirement already satisfied: python-dateutil>=2.8.2 in c:\\users\\jiahangl\\appdata\\local\\packages\\pythonsoftwarefoundation.python.3.12_qbz5n2kfra8p0\\localcache\\local-packages\\python312\\site-packages (from pandas) (2.8.2)\n",
      "Collecting pytz>=2020.1 (from pandas)\n",
      "  Downloading pytz-2024.1-py2.py3-none-any.whl.metadata (22 kB)\n",
      "Requirement already satisfied: tzdata>=2022.7 in c:\\users\\jiahangl\\appdata\\local\\packages\\pythonsoftwarefoundation.python.3.12_qbz5n2kfra8p0\\localcache\\local-packages\\python312\\site-packages (from pandas) (2023.4)\n",
      "Requirement already satisfied: six>=1.5 in c:\\users\\jiahangl\\appdata\\local\\packages\\pythonsoftwarefoundation.python.3.12_qbz5n2kfra8p0\\localcache\\local-packages\\python312\\site-packages (from python-dateutil>=2.8.2->pandas) (1.16.0)\n",
      "Downloading requests-2.31.0-py3-none-any.whl (62 kB)\n",
      "   ---------------------------------------- 0.0/62.6 kB ? eta -:--:--\n",
      "   ---------------------------------------- 62.6/62.6 kB 3.3 MB/s eta 0:00:00\n",
      "Downloading pandas-2.2.1-cp312-cp312-win_amd64.whl (11.5 MB)\n",
      "   ---------------------------------------- 0.0/11.5 MB ? eta -:--:--\n",
      "    --------------------------------------- 0.2/11.5 MB 5.3 MB/s eta 0:00:03\n",
      "   - -------------------------------------- 0.5/11.5 MB 6.4 MB/s eta 0:00:02\n",
      "   --- ------------------------------------ 1.1/11.5 MB 8.5 MB/s eta 0:00:02\n",
      "   ------- -------------------------------- 2.1/11.5 MB 12.4 MB/s eta 0:00:01\n",
      "   ---------- ----------------------------- 3.0/11.5 MB 13.6 MB/s eta 0:00:01\n",
      "   -------------- ------------------------- 4.1/11.5 MB 15.3 MB/s eta 0:00:01\n",
      "   ------------------- -------------------- 5.5/11.5 MB 17.7 MB/s eta 0:00:01\n",
      "   ----------------------- ---------------- 6.7/11.5 MB 18.5 MB/s eta 0:00:01\n",
      "   --------------------------- ------------ 7.8/11.5 MB 19.3 MB/s eta 0:00:01\n",
      "   ------------------------------- -------- 9.1/11.5 MB 20.1 MB/s eta 0:00:01\n",
      "   ------------------------------------ --- 10.6/11.5 MB 22.6 MB/s eta 0:00:01\n",
      "   ---------------------------------------  11.5/11.5 MB 26.2 MB/s eta 0:00:01\n",
      "   ---------------------------------------- 11.5/11.5 MB 23.4 MB/s eta 0:00:00\n",
      "Downloading certifi-2024.2.2-py3-none-any.whl (163 kB)\n",
      "   ---------------------------------------- 0.0/163.8 kB ? eta -:--:--\n",
      "   ---------------------------------------- 163.8/163.8 kB 9.6 MB/s eta 0:00:00\n",
      "Downloading charset_normalizer-3.3.2-cp312-cp312-win_amd64.whl (100 kB)\n",
      "   ---------------------------------------- 0.0/100.4 kB ? eta -:--:--\n",
      "   ---------------------------------------- 100.4/100.4 kB 6.0 MB/s eta 0:00:00\n",
      "Downloading idna-3.6-py3-none-any.whl (61 kB)\n",
      "   ---------------------------------------- 0.0/61.6 kB ? eta -:--:--\n",
      "   ---------------------------------------- 61.6/61.6 kB 3.2 MB/s eta 0:00:00\n",
      "Downloading numpy-1.26.4-cp312-cp312-win_amd64.whl (15.5 MB)\n",
      "   ---------------------------------------- 0.0/15.5 MB ? eta -:--:--\n",
      "   -- ------------------------------------- 1.1/15.5 MB 23.3 MB/s eta 0:00:01\n",
      "   ------ --------------------------------- 2.6/15.5 MB 27.2 MB/s eta 0:00:01\n",
      "   -------- ------------------------------- 3.3/15.5 MB 23.4 MB/s eta 0:00:01\n",
      "   ----------- ---------------------------- 4.6/15.5 MB 24.5 MB/s eta 0:00:01\n",
      "   --------------- ------------------------ 5.9/15.5 MB 25.0 MB/s eta 0:00:01\n",
      "   ------------------ --------------------- 7.0/15.5 MB 24.8 MB/s eta 0:00:01\n",
      "   --------------------- ------------------ 8.3/15.5 MB 26.4 MB/s eta 0:00:01\n",
      "   ------------------------- -------------- 9.8/15.5 MB 27.1 MB/s eta 0:00:01\n",
      "   ---------------------------- ----------- 11.1/15.5 MB 26.2 MB/s eta 0:00:01\n",
      "   -------------------------------- ------- 12.5/15.5 MB 27.3 MB/s eta 0:00:01\n",
      "   ----------------------------------- ---- 13.8/15.5 MB 27.3 MB/s eta 0:00:01\n",
      "   -------------------------------------- - 15.1/15.5 MB 28.5 MB/s eta 0:00:01\n",
      "   ---------------------------------------  15.5/15.5 MB 26.2 MB/s eta 0:00:01\n",
      "   ---------------------------------------- 15.5/15.5 MB 22.6 MB/s eta 0:00:00\n",
      "Downloading pytz-2024.1-py2.py3-none-any.whl (505 kB)\n",
      "   ---------------------------------------- 0.0/505.5 kB ? eta -:--:--\n",
      "   --------------------------------------- 505.5/505.5 kB 16.0 MB/s eta 0:00:00\n",
      "Downloading urllib3-2.2.1-py3-none-any.whl (121 kB)\n",
      "   ---------------------------------------- 0.0/121.1 kB ? eta -:--:--\n",
      "   ---------------------------------------- 121.1/121.1 kB 6.9 MB/s eta 0:00:00\n",
      "Installing collected packages: pytz, urllib3, numpy, idna, charset-normalizer, certifi, requests, pandas\n",
      "Successfully installed certifi-2024.2.2 charset-normalizer-3.3.2 idna-3.6 numpy-1.26.4 pandas-2.2.1 pytz-2024.1 requests-2.31.0 urllib3-2.2.1\n"
     ]
    }
   ],
   "source": [
    "!pip install requests pandas"
   ]
  },
  {
   "cell_type": "code",
   "execution_count": 1,
   "metadata": {},
   "outputs": [
    {
     "name": "stdout",
     "output_type": "stream",
     "text": [
      "Data successfully saved to population_2020_blocks_new.csv\n"
     ]
    }
   ],
   "source": [
    "import requests\n",
    "import pandas as pd\n",
    "\n",
    "API_KEY = '77ba26a94bf747d61761544063606374da01af62'\n",
    "# Adjust the URL to fetch block-level data within a specific county in Pennsylvania\n",
    "# Here, 'tract:*' is replaced with 'block:*' and we specify a county using '&in=county:003'\n",
    "URL = 'https://api.census.gov/data/2020/dec/pl?get=P1_001N,NAME&for=block:*&in=state:42+county:101&key=' + API_KEY\n",
    "\n",
    "response = requests.get(URL)\n",
    "\n",
    "if response.status_code == 200:\n",
    "    try:\n",
    "        data = response.json()\n",
    "    except ValueError:  # includes simplejson.decoder.JSONDecodeError\n",
    "        print('Decoding JSON has failed')\n",
    "        print(response.text)\n",
    "        exit()\n",
    "\n",
    "    headers = data.pop(0)\n",
    "    df = pd.DataFrame(data, columns=headers)\n",
    "    # Assuming the API response includes 'block', 'tract', 'county', and 'state' columns\n",
    "    # Adjust column renaming as necessary based on the actual API response\n",
    "    df.rename(columns={'P1_001N': 'total', 'NAME': 'geoname'}, inplace=True)\n",
    "    # Ensure 'total' column is of integer type\n",
    "    df['total'] = df['total'].astype(int)\n",
    "    # Construct 'geoid' with state, county, tract, and block for unique identification at the block level\n",
    "    df['geoid'] = df['state'] + df['county'] + df['tract'] + df['block']\n",
    "    # Ensure 'geoid' and 'geoname' are treated as strings\n",
    "    df['geoid'] = df['geoid'].astype(str)\n",
    "    df['geoname'] = df['geoname'].astype(str)\n",
    "    df = df[['geoid', 'geoname', 'total']]\n",
    "    csv_file_path = 'population_2020_blocks_new.csv'\n",
    "    df.to_csv(csv_file_path, index=False)\n",
    "    print(f\"Data successfully saved to {csv_file_path}\")\n",
    "else:\n",
    "    print(f\"Failed to fetch data: HTTP status code {response.status_code}\")\n",
    "    print(\"Response text:\", response.text)\n"
   ]
  }
 ],
 "metadata": {
  "kernelspec": {
   "display_name": "Python 3",
   "language": "python",
   "name": "python3"
  },
  "language_info": {
   "codemirror_mode": {
    "name": "ipython",
    "version": 3
   },
   "file_extension": ".py",
   "mimetype": "text/x-python",
   "name": "python",
   "nbconvert_exporter": "python",
   "pygments_lexer": "ipython3",
   "version": "3.12.2"
  }
 },
 "nbformat": 4,
 "nbformat_minor": 2
}
